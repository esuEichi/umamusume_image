{
 "cells": [
  {
   "cell_type": "code",
   "execution_count": 44,
   "metadata": {},
   "outputs": [],
   "source": [
    "import cv2\n",
    "import numpy as np"
   ]
  },
  {
   "cell_type": "code",
   "execution_count": 45,
   "metadata": {},
   "outputs": [
    {
     "data": {
      "text/plain": [
       "True"
      ]
     },
     "execution_count": 45,
     "metadata": {},
     "output_type": "execute_result"
    }
   ],
   "source": [
    "img = cv2.imread('uma.jpeg');\n",
    "gray = cv2.cvtColor(img, cv2.COLOR_BGR2GRAY)\n",
    "cv2.imwrite('gray.jpeg', img)"
   ]
  },
  {
   "cell_type": "code",
   "execution_count": 33,
   "metadata": {},
   "outputs": [],
   "source": []
  },
  {
   "cell_type": "code",
   "execution_count": 46,
   "metadata": {},
   "outputs": [
    {
     "data": {
      "text/plain": [
       "True"
      ]
     },
     "execution_count": 46,
     "metadata": {},
     "output_type": "execute_result"
    }
   ],
   "source": [
    "ret, after = cv2.threshold(gray, 241, 255, cv2.THRESH_BINARY)\n",
    "cv2.imwrite('after_gray.jpeg', after)"
   ]
  },
  {
   "cell_type": "code",
   "execution_count": null,
   "metadata": {},
   "outputs": [],
   "source": []
  },
  {
   "cell_type": "code",
   "execution_count": 47,
   "metadata": {},
   "outputs": [
    {
     "data": {
      "text/plain": [
       "True"
      ]
     },
     "execution_count": 47,
     "metadata": {},
     "output_type": "execute_result"
    }
   ],
   "source": [
    "element = cv2.getStructuringElement(cv2.MORPH_RECT, (10, 10))\n",
    "closing = cv2.morphologyEx(after, cv2.MORPH_CLOSE, element)\n",
    "\n",
    "cv2.imwrite('after_morpho.jpeg', closing)"
   ]
  },
  {
   "cell_type": "code",
   "execution_count": 52,
   "metadata": {},
   "outputs": [],
   "source": [
    "#### \n",
    "# コピペ元\n",
    "#　https://qiita.com/neriai/items/448a36992e308f4cabe2\n",
    "#####\n",
    "\n",
    "# 輪郭を抽出\n",
    "#   contours : [領域][Point No][0][x=0, y=1]\n",
    "#   cv2.CHAIN_APPROX_NONE: 中間点も保持する\n",
    "#   cv2.CHAIN_APPROX_SIMPLE: 中間点は保持しない\n",
    "image, contours, hierarchy = cv2.findContours(closing, cv2.RETR_LIST, cv2.CHAIN_APPROX_NONE)\n",
    "src = img\n",
    "# 矩形検出された数（デフォルトで0を指定）\n",
    "detect_count = 0\n",
    "\n",
    "min_size = 10000\n",
    "max_size = 100000\n",
    "height, width, _ = src.shape[:3]\n",
    "# 横幅が画像サイズのX%以上大きいものは除外したい\n",
    "max_rect_width = width * (45 / 100)\n",
    "\n",
    "# 各輪郭に対する処理\n",
    "for i in range(0, len(contours)):\n",
    "\n",
    "    # 輪郭の領域を計算\n",
    "    area = cv2.contourArea(contours[i])\n",
    "\n",
    "    # ノイズ（小さすぎる領域）と全体の輪郭（大きすぎる領域）を除外\n",
    "    if area < min_size or max_size < area:\n",
    "      continue\n",
    "\n",
    "    # 外接矩形\n",
    "    if len(contours[i]) > 0:  \n",
    "        rect = contours[i]\n",
    "        # 返り値で外接矩形の座標とサイズが帰ってきている\n",
    "        x, y, w, h = cv2.boundingRect(rect)\n",
    "        \n",
    "        if w < max_rect_width:\n",
    "            # cv2.rectangle(src, (x, y), (x + w, y + h), (0, 255, 0), 2)\n",
    "\n",
    "            # 外接矩形毎に画像を保存\n",
    "            cv2.imwrite('results/' + str(detect_count) + '.jpg', img[y:y + h, x:x + w])\n",
    "            detect_count = detect_count + 1\n"
   ]
  },
  {
   "cell_type": "code",
   "execution_count": 10,
   "metadata": {},
   "outputs": [
    {
     "name": "stdout",
     "output_type": "stream",
     "text": [
      "100.0\n",
      "100000.0\n"
     ]
    }
   ],
   "source": []
  }
 ],
 "metadata": {
  "kernelspec": {
   "display_name": "Python 3",
   "language": "python",
   "name": "python3"
  },
  "language_info": {
   "codemirror_mode": {
    "name": "ipython",
    "version": 3
   },
   "file_extension": ".py",
   "mimetype": "text/x-python",
   "name": "python",
   "nbconvert_exporter": "python",
   "pygments_lexer": "ipython3",
   "version": "3.7.10"
  }
 },
 "nbformat": 4,
 "nbformat_minor": 4
}
